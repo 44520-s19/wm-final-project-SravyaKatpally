{
 "cells": [
  {
   "cell_type": "markdown",
   "metadata": {},
   "source": [
    "## Name : Sravya Katpally"
   ]
  },
  {
   "cell_type": "markdown",
   "metadata": {},
   "source": [
    "### Ratings of a Restaurant in different locations"
   ]
  },
  {
   "attachments": {},
   "cell_type": "markdown",
   "metadata": {},
   "source": [
    "\n",
    "### Question : Is there any difference between the ratings of one of the finest restaurants, which is in different locations? \n",
    "#### To find this, i'm using zomato app. I web scraped  AB's absolute barbecue restaurant ratings in 5 locations. Collected data and visualized observations."
   ]
  },
  {
   "cell_type": "markdown",
   "metadata": {},
   "source": [
    "### Importing libraries"
   ]
  },
  {
   "cell_type": "code",
   "execution_count": 1,
   "metadata": {},
   "outputs": [],
   "source": [
    "# Importing libraries\n",
    "import requests\n",
    "from bs4 import BeautifulSoup\n",
    "import pandas as pd\n",
    "\n",
    "mainDict ={}\n",
    "mainList =[]"
   ]
  },
  {
   "cell_type": "markdown",
   "metadata": {},
   "source": [
    "### Retrieving data from website for web scraping"
   ]
  },
  {
   "cell_type": "code",
   "execution_count": 2,
   "metadata": {},
   "outputs": [],
   "source": [
    "headers = {'User-Agent': 'Mozilla/5.0 (Macintosh; Intel Mac OS X 10_11_6) AppleWebKit/537.36 (KHTML, like Gecko) Chrome/61.0.3163.100 Safari/537.36'}\n",
    "\n",
    "#Hyderabad\n",
    "Hydurl = \"https://www.zomato.com/hyderabad/great-food-no-bull\"\n",
    "html = requests.get(Hydurl, headers=headers)\n",
    "HydResults = html.text \n",
    "\n",
    "#Chennai\n",
    "Chennaiurl = \"https://www.zomato.com/hyderabad/great-food-no-bull\"\n",
    "html = requests.get(Chennaiurl, headers=headers)\n",
    "ChennaiResults = html.text \n",
    "\n",
    "#Banglore\n",
    "Bangurl = \"https://www.zomato.com/hyderabad/great-food-no-bull\"\n",
    "html = requests.get(Bangurl, headers=headers)\n",
    "BangResults = html.text \n",
    "\n",
    "#Pune\n",
    "Puneurl = \"https://www.zomato.com/hyderabad/great-food-no-bull\"\n",
    "html = requests.get(Puneurl, headers=headers)\n",
    "PuneResults = html.text\n",
    "\n",
    "#Delhi\n",
    "Delhiurl = \"https://www.zomato.com/hyderabad/great-food-no-bull\"\n",
    "html = requests.get(Delhiurl, headers=headers)\n",
    "DelhiResults = html.text \n",
    "\n"
   ]
  },
  {
   "cell_type": "markdown",
   "metadata": {},
   "source": [
    "### Pickling and Loading Data"
   ]
  },
  {
   "cell_type": "code",
   "execution_count": 3,
   "metadata": {},
   "outputs": [],
   "source": [
    "import pickle\n",
    "\n",
    "# Hyderabad\n",
    "with open('HydData.pkl', 'wb') as f:\n",
    "    pickle.dump(HydResults, f)\n",
    "with open('HydData.pkl', 'rb') as f:\n",
    "    hyd_results = pickle.load(f)\n",
    "    \n",
    "# Chennai\n",
    "with open('ChennaiData.pkl', 'wb') as f:\n",
    "    pickle.dump(ChennaiResults, f)\n",
    "with open('ChennaiData.pkl', 'rb') as f:\n",
    "    chennai_results = pickle.load(f)\n",
    "    \n",
    "# Banglore\n",
    "with open('BangData.pkl', 'wb') as f:\n",
    "    pickle.dump(BangResults, f)\n",
    "with open('BangData.pkl', 'rb') as f:\n",
    "    bang_results = pickle.load(f)\n",
    "    \n",
    "\n",
    "# Pune\n",
    "with open('PuneData.pkl', 'wb') as f:\n",
    "    pickle.dump(PuneResults, f)\n",
    "with open('PuneData.pkl', 'rb') as f:\n",
    "    pune_results = pickle.load(f)\n",
    "\n",
    "# Delhi\n",
    "with open('DelhiData.pkl', 'wb') as f:\n",
    "    pickle.dump(DelhiResults, f)\n",
    "with open('DelhiData.pkl', 'rb') as f:\n",
    "    delhi_results = pickle.load(f) "
   ]
  },
  {
   "cell_type": "markdown",
   "metadata": {},
   "source": [
    "### Finding rating in Hyderabad"
   ]
  },
  {
   "cell_type": "code",
   "execution_count": 4,
   "metadata": {},
   "outputs": [
    {
     "name": "stdout",
     "output_type": "stream",
     "text": [
      "Rating of ABs - Absolute Barbecue in Hyderabad: 4.6\n"
     ]
    }
   ],
   "source": [
    "Hydsoup = BeautifulSoup(hyd_results,\"html.parser\")\n",
    "top_rest_hyd = Hydsoup.find_all(\"div\",attrs={\"class\": \"bb0 collections-grid col-l-16\"})\n",
    "#print(top_rest)\n",
    "list_tr = top_rest_hyd[0].find_all(\"div\",attrs={\"class\": \"col-s-8 col-l-1by3\"})\n",
    "list_rest =[]\n",
    "mydict={}\n",
    "# Fetching top 70 restaurants\n",
    "for i in range(0,70):    \n",
    "    dataframe =[]\n",
    "    body = Hydsoup.findAll(\"div\",{\"class\": \"ads-res-snippet-rating-large\"})\n",
    "    body1  = Hydsoup.findAll(\"div\",{\"class\":\"res_title\"})\n",
    "    b = ((body1[i].text.replace('\\n', '')).strip())\n",
    "    a = ((body[i].text.replace('\\n', '')).strip())\n",
    "    dataframe.append(b)\n",
    "    dataframe.append((a))\n",
    "    mydict[b] = a\n",
    "    list_rest.append(dataframe)\n",
    "#print(list_rest) ---------------------------> Prints top 70 restaurants\n",
    "mainDict ={}\n",
    "mainList =[]\n",
    "e=[]\n",
    "sorteddict={}\n",
    "for key in sorted(mydict.keys())[:70]:\n",
    "    main ='ab'\"'\"'s - absolute barbecues'\n",
    "    if(key.lower()==main):\n",
    "        d = key    \n",
    "        e = mydict[key]\n",
    "        sorteddict[d] = e\n",
    "print('Rating of ABs - Absolute Barbecue in Hyderabad:', e)\n",
    "mainDict['Hyderabad'] = e\n"
   ]
  },
  {
   "cell_type": "markdown",
   "metadata": {},
   "source": [
    "### Finding rating in Chennai"
   ]
  },
  {
   "cell_type": "code",
   "execution_count": 5,
   "metadata": {},
   "outputs": [
    {
     "name": "stdout",
     "output_type": "stream",
     "text": [
      "Rating of ABs - Absolute Barbecue in Chennai: 4.5\n"
     ]
    }
   ],
   "source": [
    "Csoup = BeautifulSoup(chennai_results,\"html.parser\")\n",
    "top_rest = Csoup.find_all(\"div\",attrs={\"class\": \"bb0 collections-grid col-l-16\"})\n",
    "#print(top_rest)\n",
    "list_tr = top_rest[0].find_all(\"div\",attrs={\"class\": \"col-s-8 col-l-1by3\"})\n",
    "list_rest =[]\n",
    "# Fetching top 70 Restaurants\n",
    "for i in range(0,68):    \n",
    "    dataframe =[]\n",
    "    body = Csoup.findAll(\"div\",{\"class\": \"ads-res-snippet-rating-large\"})\n",
    "    body1  = Csoup.findAll(\"div\",{\"class\":\"res_title\"})\n",
    "    b = ((body1[i].text.replace('\\n', '')).strip())\n",
    "    a = ((body[i].text.replace('\\n', '')).strip())\n",
    "    dataframe.append(b)\n",
    "    dataframe.append((a))\n",
    "    mydict[b] = a\n",
    "    list_rest.append(dataframe)\n",
    "#print(list_rest) ---------------------------> Prints top 70 restaurants\n",
    "\n",
    "for key in sorted(mydict.keys())[:70]:\n",
    "    main ='ab'\"'\"'s - absolute barbecues'\n",
    "    if(key.lower()==main.lower()):\n",
    "        d = key    \n",
    "        e = mydict[key]\n",
    "        sorteddict[d] = e\n",
    "#print(sorteddict)\n",
    "#print(e)\n",
    "print('Rating of ABs - Absolute Barbecue in Chennai:', e)\n",
    "mainDict['Chennai'] = e\n",
    "\n",
    "\n"
   ]
  },
  {
   "cell_type": "markdown",
   "metadata": {},
   "source": [
    "### Finding rating in Banglore"
   ]
  },
  {
   "cell_type": "code",
   "execution_count": 6,
   "metadata": {},
   "outputs": [
    {
     "name": "stdout",
     "output_type": "stream",
     "text": [
      "Rating of ABs - Absolute Barbecue in Banglore: 4.7\n"
     ]
    }
   ],
   "source": [
    "Bsoup = BeautifulSoup(bang_results,\"html.parser\")\n",
    "top_rest = Bsoup.find_all(\"div\",attrs={\"class\": \"bb0 collections-grid col-l-16\"})\n",
    "#print(top_rest)\n",
    "list_tr = top_rest[0].find_all(\"div\",attrs={\"class\": \"col-s-8 col-l-1by3\"})\n",
    "list_rest =[]\n",
    "# Fetching top 70 Restaurants\n",
    "for i in range(0,70):    \n",
    "    dataframe =[]\n",
    "    body = Bsoup.findAll(\"div\",{\"class\": \"ads-res-snippet-rating-large\"})\n",
    "    body1  = Bsoup.findAll(\"div\",{\"class\":\"res_title\"})\n",
    "    b = ((body1[i].text.replace('\\n', '')).strip())\n",
    "    a = ((body[i].text.replace('\\n', '')).strip())\n",
    "    dataframe.append(b)\n",
    "    dataframe.append((a))\n",
    "    mydict[b] = a\n",
    "    list_rest.append(dataframe)\n",
    "#print(list_rest) ---------------------------> Prints top 70 restaurants\n",
    "sorteddict={}\n",
    "\n",
    "for key in sorted(mydict.keys())[:70]:\n",
    "    main ='ab'\"'\"'s - absolute barbecues'\n",
    "    #print('ll ', main)\n",
    "    #print(key.lower())\n",
    "    if(key.lower()==main.lower()):\n",
    "        d = key    \n",
    "        e = mydict[key]\n",
    "        sorteddict[d] = e\n",
    "#print(sorteddict)\n",
    "#print(e)\n",
    "print('Rating of ABs - Absolute Barbecue in Banglore:', e)\n",
    "mainDict['Banglore'] = e\n"
   ]
  },
  {
   "cell_type": "markdown",
   "metadata": {},
   "source": [
    "### Finding rating in Pune"
   ]
  },
  {
   "cell_type": "code",
   "execution_count": 7,
   "metadata": {},
   "outputs": [
    {
     "name": "stdout",
     "output_type": "stream",
     "text": [
      "Rating of ABs - Absolute Barbecue in Pune: 4.5\n"
     ]
    }
   ],
   "source": [
    "Psoup = BeautifulSoup(pune_results,\"html.parser\")\n",
    "\n",
    "top_rest = Psoup.find_all(\"div\",attrs={\"class\": \"bb0 collections-grid col-l-16\"})\n",
    "#print(top_rest)\n",
    "list_tr = top_rest[0].find_all(\"div\",attrs={\"class\": \"col-s-8 col-l-1by3\"})\n",
    "list_rest =[]\n",
    "# Fetching top 70 Restaurants\n",
    "for i in range(0,70):    \n",
    "    dataframe =[]\n",
    "    body = Psoup.findAll(\"div\",{\"class\": \"ads-res-snippet-rating-large\"})\n",
    "    body1  = Psoup.findAll(\"div\",{\"class\":\"res_title\"})\n",
    "    b = ((body1[i].text.replace('\\n', '')).strip())\n",
    "    a = ((body[i].text.replace('\\n', '')).strip())\n",
    "    dataframe.append(b)\n",
    "    dataframe.append((a))\n",
    "    mydict[b] = a\n",
    "    list_rest.append(dataframe)\n",
    "#print(list_rest) ---------------------------> Prints top 70 restaurants\n",
    "\n",
    "sorteddict={}\n",
    "for key in sorted(mydict.keys())[:70]:\n",
    "    main ='ab'\"'\"'s - absolute barbecues'\n",
    "    if(key.lower()==main.lower()):\n",
    "        d = key    \n",
    "        e = mydict[key]\n",
    "        sorteddict[d] = e\n",
    "#print(sorteddict)\n",
    "print('Rating of ABs - Absolute Barbecue in Pune:', e)\n",
    "mainDict['Pune'] = e"
   ]
  },
  {
   "cell_type": "markdown",
   "metadata": {},
   "source": [
    "###  Finding rating in Delhi"
   ]
  },
  {
   "cell_type": "code",
   "execution_count": 8,
   "metadata": {},
   "outputs": [
    {
     "name": "stdout",
     "output_type": "stream",
     "text": [
      "Rating of ABs - Absolute Barbecue in Delhi: 4.5\n"
     ]
    }
   ],
   "source": [
    "DelhiSoup = BeautifulSoup(delhi_results,\"html.parser\")\n",
    "\n",
    "top_rest = DelhiSoup.find_all(\"div\",attrs={\"class\": \"bb0 collections-grid col-l-16\"})\n",
    "list_tr = top_rest[0].find_all(\"div\",attrs={\"class\": \"col-s-8 col-l-1by3\"})\n",
    "list_rest =[]\n",
    "# Fetching top 70 Restaurants\n",
    "for i in range(0,70):    \n",
    "    dataframe =[]   \n",
    "    body = Psoup.findAll(\"div\",{\"class\": \"ads-res-snippet-rating-large\"})\n",
    "    body1  = Psoup.findAll(\"div\",{\"class\":\"res_title\"})\n",
    "    b = ((body1[i].text.replace('\\n', '')).strip())\n",
    "    a = ((body[i].text.replace('\\n', '')).strip())\n",
    "    dataframe.append(b)\n",
    "    dataframe.append((a))\n",
    "    mydict[b] = a\n",
    "    list_rest.append(dataframe)\n",
    "#print(list_rest) ---------------------------> Prints top 70 restaurants\n",
    "\n",
    "sorteddict={}\n",
    "for key in sorted(mydict.keys())[:70]:\n",
    "    main ='ab'\"'\"'s - absolute barbecues'    \n",
    "    if(key.lower()==main.lower()):\n",
    "        d = key    \n",
    "        e = mydict[key]\n",
    "        sorteddict[d] = e\n",
    "\n",
    "print('Rating of ABs - Absolute Barbecue in Delhi:', e)\n",
    "mainDict['Delhi'] = e"
   ]
  },
  {
   "cell_type": "markdown",
   "metadata": {},
   "source": [
    "### Loading data into a table using pandas"
   ]
  },
  {
   "cell_type": "code",
   "execution_count": 12,
   "metadata": {},
   "outputs": [
    {
     "name": "stdout",
     "output_type": "stream",
     "text": [
      "List of locations and their ratings  [['Banglore', 4.7], ['Chennai', 4.5], ['Delhi', 4.5], ['Hyderabad', 4.6], ['Pune', 4.5], ['Banglore', 4.7], ['Chennai', 4.5], ['Delhi', 4.5], ['Hyderabad', 4.6], ['Pune', 4.5]]\n"
     ]
    },
    {
     "data": {
      "text/html": [
       "<div>\n",
       "<style scoped>\n",
       "    .dataframe tbody tr th:only-of-type {\n",
       "        vertical-align: middle;\n",
       "    }\n",
       "\n",
       "    .dataframe tbody tr th {\n",
       "        vertical-align: top;\n",
       "    }\n",
       "\n",
       "    .dataframe thead th {\n",
       "        text-align: right;\n",
       "    }\n",
       "</style>\n",
       "<table border=\"1\" class=\"dataframe\">\n",
       "  <thead>\n",
       "    <tr style=\"text-align: right;\">\n",
       "      <th></th>\n",
       "      <th>Location</th>\n",
       "      <th>Rating</th>\n",
       "    </tr>\n",
       "  </thead>\n",
       "  <tbody>\n",
       "    <tr>\n",
       "      <th>0</th>\n",
       "      <td>Banglore</td>\n",
       "      <td>4.7</td>\n",
       "    </tr>\n",
       "    <tr>\n",
       "      <th>1</th>\n",
       "      <td>Chennai</td>\n",
       "      <td>4.5</td>\n",
       "    </tr>\n",
       "    <tr>\n",
       "      <th>2</th>\n",
       "      <td>Delhi</td>\n",
       "      <td>4.5</td>\n",
       "    </tr>\n",
       "    <tr>\n",
       "      <th>3</th>\n",
       "      <td>Hyderabad</td>\n",
       "      <td>4.6</td>\n",
       "    </tr>\n",
       "    <tr>\n",
       "      <th>4</th>\n",
       "      <td>Pune</td>\n",
       "      <td>4.5</td>\n",
       "    </tr>\n",
       "    <tr>\n",
       "      <th>5</th>\n",
       "      <td>Banglore</td>\n",
       "      <td>4.7</td>\n",
       "    </tr>\n",
       "    <tr>\n",
       "      <th>6</th>\n",
       "      <td>Chennai</td>\n",
       "      <td>4.5</td>\n",
       "    </tr>\n",
       "    <tr>\n",
       "      <th>7</th>\n",
       "      <td>Delhi</td>\n",
       "      <td>4.5</td>\n",
       "    </tr>\n",
       "    <tr>\n",
       "      <th>8</th>\n",
       "      <td>Hyderabad</td>\n",
       "      <td>4.6</td>\n",
       "    </tr>\n",
       "    <tr>\n",
       "      <th>9</th>\n",
       "      <td>Pune</td>\n",
       "      <td>4.5</td>\n",
       "    </tr>\n",
       "  </tbody>\n",
       "</table>\n",
       "</div>"
      ],
      "text/plain": [
       "    Location  Rating\n",
       "0   Banglore     4.7\n",
       "1    Chennai     4.5\n",
       "2      Delhi     4.5\n",
       "3  Hyderabad     4.6\n",
       "4       Pune     4.5\n",
       "5   Banglore     4.7\n",
       "6    Chennai     4.5\n",
       "7      Delhi     4.5\n",
       "8  Hyderabad     4.6\n",
       "9       Pune     4.5"
      ]
     },
     "execution_count": 12,
     "metadata": {},
     "output_type": "execute_result"
    }
   ],
   "source": [
    "for key in sorted(mainDict.keys()):\n",
    "    f=[]\n",
    "    d = key    \n",
    "    f.append(d)\n",
    "    p = mainDict[key]\n",
    "    f.append(float(p))  \n",
    "    mainList.append(f)\n",
    "print('List of locations and their ratings ', mainList)\n",
    "\n",
    "#Creating a dataframe object from listoftuples\n",
    "df = pd.DataFrame(mainList, columns = ['Location', 'Rating'])\n",
    "\n",
    "from IPython.display import display\n",
    "df  \n"
   ]
  },
  {
   "cell_type": "markdown",
   "metadata": {},
   "source": [
    "### Importing Seaborn and Matplotlib for Visualization"
   ]
  },
  {
   "cell_type": "code",
   "execution_count": 10,
   "metadata": {},
   "outputs": [],
   "source": [
    "import seaborn as sns\n",
    "import matplotlib.pyplot as plt\n",
    "import matplotlib.style as style\n",
    "%matplotlib inline"
   ]
  },
  {
   "cell_type": "markdown",
   "metadata": {},
   "source": [
    "### Bar Graph to show the rating for location"
   ]
  },
  {
   "cell_type": "code",
   "execution_count": 11,
   "metadata": {},
   "outputs": [
    {
     "name": "stdout",
     "output_type": "stream",
     "text": [
      "\n"
     ]
    },
    {
     "data": {
      "image/png": "[encoded data removed]",
      "text/plain": [
       "<Figure size 432x288 with 1 Axes>"
      ]
     },
     "metadata": {
      "needs_background": "light"
     },
     "output_type": "display_data"
    }
   ],
   "source": [
    "ax = sns.barplot(x=\"Location\", y=\"Rating\", data= df, color ='royalblue')\n",
    "#sns.palplot(sns.color_palette(\"Blues\"))\n",
    "style.use('seaborn-poster')\n",
    "plt.title('AB'\"'\"'s - Absolute Barbecue ratings',fontsize =15)\n",
    "print()\n",
    "plt.xlabel(\"Locations\",fontsize =10)\n",
    "plt.ylabel(\"Ratings\", fontsize =10)\n",
    "plt.tight_layout()\n",
    "plt.savefig('ratings.png', Transparent = True)"
   ]
  },
  {
   "cell_type": "markdown",
   "metadata": {},
   "source": [
    "## Conclusion :\n",
    "### From this project, I conclude that ratings of a restaurant in different locations have very little variation. Rating changes frequently, as of now, difference in the rating ranges between 0.1 to 0.4. I collected the data from Zomato website for each location and scraped data. Plotted a graph based on location and rating using matplotlib.\n",
    "    "
   ]
  },
  {
   "cell_type": "code",
   "execution_count": null,
   "metadata": {},
   "outputs": [],
   "source": []
  }
 ],
 "metadata": {
  "kernelspec": {
   "display_name": "Python 3",
   "language": "python",
   "name": "python3"
  },
  "language_info": {
   "codemirror_mode": {
    "name": "ipython",
    "version": 3
   },
   "file_extension": ".py",
   "mimetype": "text/x-python",
   "name": "python",
   "nbconvert_exporter": "python",
   "pygments_lexer": "ipython3",
   "version": "3.7.3"
  }
 },
 "nbformat": 4,
 "nbformat_minor": 2
}
